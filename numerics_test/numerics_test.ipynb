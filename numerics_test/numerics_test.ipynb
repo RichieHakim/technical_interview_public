{
  "nbformat": 4,
  "nbformat_minor": 0,
  "metadata": {
    "colab": {
      "provenance": [],
      "gpuType": "T4"
    },
    "kernelspec": {
      "name": "python3",
      "display_name": "Python 3"
    },
    "language_info": {
      "name": "python"
    },
    "accelerator": "GPU"
  },
  "cells": [
    {
      "cell_type": "markdown",
      "source": [
        "Welcome to a basic quiz on numeric python.\n",
        "\n",
        "- This quiz was designed as a basic level test of python proficiency, array manipulation, and comfort in handling data.\n",
        "\n",
        "- For each question please note if you used a chatbot and/or had to google something. It is not expected that you will know how to do everything from memory; I had to look up a couple things when making it.\n",
        "\n",
        "- Where possible, write simple, efficient, and pythonic code; use built in functions in appropriate libraries.\n",
        "\n",
        "- Try to complete this in one sitting. Expect to take a minimum of 20 minutes. Some experienced people have taken much longer, especially if python is not their favorite language."
      ],
      "metadata": {
        "id": "yMIvDtb6U51M"
      }
    },
    {
      "cell_type": "code",
      "source": [
        "# Start a timer. There is no rush.\n",
        "import time\n",
        "\n",
        "time_start = time.time()"
      ],
      "metadata": {
        "id": "aKYk-bWJZaD-"
      },
      "execution_count": 1,
      "outputs": []
    },
    {
      "cell_type": "code",
      "source": [
        "# Import numpy"
      ],
      "metadata": {
        "id": "I6NnHolec07U"
      },
      "execution_count": 2,
      "outputs": []
    },
    {
      "cell_type": "code",
      "source": [
        "# Make a variable called 'a' that is an identity matrix of length 5"
      ],
      "metadata": {
        "id": "4VSsbquKHxqW"
      },
      "execution_count": null,
      "outputs": []
    },
    {
      "cell_type": "code",
      "source": [
        "# Print the number of elements that equal zero in 'a'"
      ],
      "metadata": {
        "id": "uaOt2SNHIBVX"
      },
      "execution_count": null,
      "outputs": []
    },
    {
      "cell_type": "code",
      "source": [
        "# Print the first column of 'a'"
      ],
      "metadata": {
        "id": "lS-PY8G8IOCT"
      },
      "execution_count": null,
      "outputs": []
    },
    {
      "cell_type": "code",
      "source": [
        "# Make a variable 'b' that is a 40 element 1D array with just the numbers [1, 2, 1, 2, ...] repeating\n",
        "# print 'b'"
      ],
      "metadata": {
        "id": "47cZFY_wItql"
      },
      "execution_count": null,
      "outputs": []
    },
    {
      "cell_type": "code",
      "source": [
        "# Make a variable 'z' that is a list containing the lowercase letters of the alphabet as strings (eg. ['a', 'b', ...])\n",
        "# Make a variable 'y' where for each element of the list 'z', prepend the string 'letter ' and raise the letter to be uppercase, so that the list contains ['letter A', 'letter B']\n",
        "# print y"
      ],
      "metadata": {
        "id": "AGLrqLs5WLdE"
      },
      "execution_count": 8,
      "outputs": []
    },
    {
      "cell_type": "code",
      "source": [
        "# Make a variable 'c' that is a 3D array of shape (8, 11, 2) where c[:,:,0] contains integers that increase from 0-7 along each column, and where c[:,:,1] contains integers that increase from 101-112 along each row\n",
        "# print c[:,:,0] and c[:,:,1]"
      ],
      "metadata": {
        "id": "hVKU-VJLJlMa"
      },
      "execution_count": null,
      "outputs": []
    },
    {
      "cell_type": "code",
      "source": [
        "# Make a variable 'd' that is the outer product of 'a', 'b', and 'c'. Use index broadcasting and a single multiplication step. The resulting array should be shape (5, 5, 40, 8, 11, 2).\n",
        "# print d.shape\n",
        "# print d.sum()"
      ],
      "metadata": {
        "id": "iG6ArFWPLS9G"
      },
      "execution_count": 15,
      "outputs": []
    },
    {
      "cell_type": "code",
      "source": [
        "# Make a variable 'e' that casts variable 'd' into float32\n",
        "# print the size of 'e' in memory / on disk in MB"
      ],
      "metadata": {
        "id": "ruNl1agUI2zh"
      },
      "execution_count": null,
      "outputs": []
    },
    {
      "cell_type": "code",
      "source": [
        "# Calculate and print the estimated size of an array that has the shape (908760987, 293847, 238947987, 897, 1111, 1231, 99999) and a datatype of uint16. Output should be in Petabytes (PB). Show work."
      ],
      "metadata": {
        "id": "6_6WqYSuNkUD"
      },
      "execution_count": 18,
      "outputs": []
    },
    {
      "cell_type": "code",
      "source": [
        "# Make a matrix 'f' that is 2D, of shape (100000, 3). The columns should contain random numbers that are normally distributed with a mean of 0 and standard deviation of 1.\n",
        "#   The correlation matrix of this array (describing the correlation coefficient of each pair of columns) should be [[1, 0.5, 0],\n",
        "                                                                                                                   # [0.5, 1, 0.2],\n",
        "                                                                                                                   # [0, 0.2, 1]]\n",
        "# Make a matrix 'g' that is the correlation matrix of 'f' rounded to the nearest tenth (eg. 0.132323423 > 0.1). It should be of shape (3,3)\n",
        "# print 'g'"
      ],
      "metadata": {
        "id": "Hwm2HKQGP3o4"
      },
      "execution_count": null,
      "outputs": []
    },
    {
      "cell_type": "code",
      "source": [
        "# Make a matrix 'h' that is a 1D array of length 100 with random numbers generated from a poisson distribution with lambda = 0.3, and set numpy's random number generator seed to 123 beforehand.\n",
        "# print h.sum()"
      ],
      "metadata": {
        "id": "QHsz2dpUTW09"
      },
      "execution_count": null,
      "outputs": []
    },
    {
      "cell_type": "code",
      "source": [
        "# Write a class 'J' that has two attributes: 'J.k', and 'J.l', where 'k' is set to 3 and 'l' is initialized via the __init__ method with a default value of 4.\n",
        "#   Give 'J' a method called 'sum' that returns the sum of 'J.k' and 'J.l'\n",
        "# print J(l=9).sum()"
      ],
      "metadata": {
        "id": "sdixuybcWMrF"
      },
      "execution_count": null,
      "outputs": []
    },
    {
      "cell_type": "code",
      "source": [
        "# Write a class 'M' that does the following:\n",
        "#   - Has attribute 'M.encoder' that is defined as a random (uniform distribution 0 to 1) array of shape (5, 3)\n",
        "#   - Has a method 'M.random_projection' with two arguments: 'X' and 'output_size'. This method should take the inner product ('dot' product) of X and encoder, and then take the inner product of that output and a random (uniform 0 to 1) matrix with shape (3, output_size), and then return that result.\n",
        "#   - The 'M.random_projection' method should also check the properties of X (object type, ndim, shape) at the beginning of the function to ensure that the multiplication will work without error; if it will not work a descriptive error should be thrown.\n",
        "\n",
        "# Set the random seed to 123 beforehand and then\n",
        "# print M().random_projection(X=np.array([[2,3,4,5,6]]), output_size=5)\n",
        "\n",
        "# In < 20 words, why can X be both np.arange(5) and np.arange(5)[None,:], but not np.arange(5)[:,None] without throwing an error"
      ],
      "metadata": {
        "id": "GytIh1BJXhXn"
      },
      "execution_count": 30,
      "outputs": []
    },
    {
      "cell_type": "code",
      "source": [
        "# import torch"
      ],
      "metadata": {
        "id": "QAMu5sGwbrsu"
      },
      "execution_count": 34,
      "outputs": []
    },
    {
      "cell_type": "code",
      "source": [
        "# Make a variable 'n' that is a torch tensor of random (uniform 0 to 1) values of shape (1000, 30000)\n",
        "# Make a variable 'o' that is a torch tensor: torch.as_tensor([0,0,1,2,2.5,3,2.5,2,1,0,0])\n",
        "# Modify variable 'o' such that it's sum = 1\n",
        "# Make a variable 'p' that is made by calculating the convolution of 'n' with the kernel 'o' over the row dimension (each row of 'n' should be independently convolved with 'o').\n",
        "#   The result should be of shape (1000, 30000), so use padding='same'.\n",
        "#   Find the most efficient pytorch function to apply for this application.\n",
        "#   Set the pytorch random seed to 123 before generating random matrices.\n",
        "# print(p.sum())\n",
        "# Import matplotlib.pyplot\n",
        "# Plot the first 100 samples of the first row of 'n' and 'p'\n",
        "# In 5-20 words, describe what this code did qualitatively to the data."
      ],
      "metadata": {
        "id": "5qqpx4BIc-7p"
      },
      "execution_count": null,
      "outputs": []
    },
    {
      "cell_type": "code",
      "source": [
        "# Extra credit:\n",
        "\n",
        "# Make variables 'q' and 'r' that are simply 'n' and 'o' on a GPU (if on CoLab, change your runtime type to one with a GPU)\n",
        "# Make a variable 's' that is like 'p' above, but the convolution calculation is performed on 'q' and 'r'.\n",
        "# Compare the runtime for calculating 's' vs. 'p' by printing the median of 10 runs of each"
      ],
      "metadata": {
        "id": "vXDhg-k8SLfA"
      },
      "execution_count": null,
      "outputs": []
    },
    {
      "cell_type": "code",
      "source": [
        "# Check total time spent\n",
        "\n",
        "print((time.time() - time_start) / 60)"
      ],
      "metadata": {
        "colab": {
          "base_uri": "https://localhost:8080/"
        },
        "id": "UPSdJ_LCUoHp",
        "outputId": "4a1679cd-cc2f-4f90-8512-8071407590ea"
      },
      "execution_count": 43,
      "outputs": [
        {
          "output_type": "stream",
          "name": "stdout",
          "text": [
            "30.423349610964458\n"
          ]
        }
      ]
    },
    {
      "cell_type": "code",
      "source": [],
      "metadata": {
        "id": "em2zSxWtaLzX"
      },
      "execution_count": null,
      "outputs": []
    }
  ]
}
