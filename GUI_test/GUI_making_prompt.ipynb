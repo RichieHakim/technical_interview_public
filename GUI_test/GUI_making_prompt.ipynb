{
 "cells": [
  {
   "cell_type": "markdown",
   "metadata": {},
   "source": [
    "## Let's make a simple GUI"
   ]
  },
  {
   "cell_type": "markdown",
   "metadata": {},
   "source": [
    "### Often, we as scientists design custom analysis packages that we develop over time for others to use. While the goal is always to make it as user friendly as possible, we often stop at the level of a jupyter notebook. Here, your assignment will be the following: \n",
    "* Create a GUI for one of our analyses packages https://github.com/jbwallace123/sabatini-glm-workflow.git that allows a user to create a project folder, select their data, and run the analysis.\n",
    "* For extra credit, add in some basic visualization features that allows the user to visualize the data and the graph the results of the analysis.\n",
    "* You're welcome to use any GUI framework you like, but I would recommend using Tkinter or pySimpleGUI. \n",
    "* You can refer to the simple_gui.py file for a hint on how to get started.\n",
    "* Ideally, the GUI can be launched using a very simple command line command, e.g. python simple_gui.py\n",
    "* You're welcome to use any resources you'd like (including generative AI) to help you design the GUI, but please cite any resources you use."
   ]
  },
  {
   "cell_type": "markdown",
   "metadata": {},
   "source": [
    "#### Where to get the data: \n",
    "\n",
    "* Please download the data from the following link: https://drive.google.com/drive/folders/1jIaJQEOtLk8A5FymSizm6K8gYCibUJ_-?usp=sharing"
   ]
  },
  {
   "cell_type": "markdown",
   "metadata": {},
   "source": []
  }
 ],
 "metadata": {
  "kernelspec": {
   "display_name": "sabatini-glm",
   "language": "python",
   "name": "python3"
  },
  "language_info": {
   "name": "python",
   "version": "3.9.18"
  }
 },
 "nbformat": 4,
 "nbformat_minor": 2
}
